{
 "cells": [
  {
   "cell_type": "markdown",
   "id": "2ef0c5e6",
   "metadata": {},
   "source": [
    "\n",
    "# DataStructure in Python"
   ]
  },
  {
   "cell_type": "markdown",
   "id": "bae59f8f",
   "metadata": {},
   "source": [
    "MultiDimentional List"
   ]
  },
  {
   "cell_type": "code",
   "execution_count": 2,
   "id": "e5d32ce3",
   "metadata": {},
   "outputs": [
    {
     "name": "stdout",
     "output_type": "stream",
     "text": [
      "[[1, 2, 3], [4, 5, 6], [7, 8, 9]]\n"
     ]
    }
   ],
   "source": [
    "lst=[[1,2,3],[4,5,6],[7,8,9]]\n",
    "print(lst)\n"
   ]
  },
  {
   "cell_type": "code",
   "execution_count": 5,
   "id": "39369158",
   "metadata": {},
   "outputs": [
    {
     "name": "stdout",
     "output_type": "stream",
     "text": [
      "[1, 2, 3]\n",
      "[4, 5, 6]\n",
      "[7, 8, 9]\n"
     ]
    }
   ],
   "source": [
    "#accessing single list from multidimentional list\n",
    "print(lst[0])\n",
    "print(lst[1])\n",
    "print(lst[2])"
   ]
  },
  {
   "cell_type": "code",
   "execution_count": 8,
   "id": "2f95bac6",
   "metadata": {},
   "outputs": [
    {
     "name": "stdout",
     "output_type": "stream",
     "text": [
      "2\n"
     ]
    }
   ],
   "source": [
    "#accessing single element of list \n",
    "print(lst[0][1])"
   ]
  },
  {
   "cell_type": "code",
   "execution_count": 12,
   "id": "5e196d48",
   "metadata": {},
   "outputs": [
    {
     "name": "stdout",
     "output_type": "stream",
     "text": [
      "[[1, 2, 3], [4, 5, 16], [7, 8, 9]]\n"
     ]
    }
   ],
   "source": [
    "#modifying the values\n",
    "lst[1][2]=16\n",
    "print(lst)"
   ]
  },
  {
   "cell_type": "code",
   "execution_count": 14,
   "id": "14c3b826",
   "metadata": {},
   "outputs": [
    {
     "name": "stdout",
     "output_type": "stream",
     "text": [
      "[[1, 2, 3], [4, 5, 16], ['Sachin Jalakoti', 24]]\n"
     ]
    }
   ],
   "source": [
    "#modifying the whole list\n",
    "lst[2]=[\"Sachin Jalakoti\",24]\n",
    "print(lst)"
   ]
  },
  {
   "cell_type": "code",
   "execution_count": 15,
   "id": "6067da3c",
   "metadata": {},
   "outputs": [
    {
     "name": "stdout",
     "output_type": "stream",
     "text": [
      "[[1, 2, 3], [4, 5, 16], ['Sachin Jalakoti', 24]]\n"
     ]
    }
   ],
   "source": [
    "print(lst[:])"
   ]
  },
  {
   "cell_type": "code",
   "execution_count": 16,
   "id": "98ade204",
   "metadata": {},
   "outputs": [
    {
     "name": "stdout",
     "output_type": "stream",
     "text": [
      "[[1, 2, 3], [4, 5, 16], ['Sachin Jalakoti', 24], [12, 14, 18]]\n"
     ]
    }
   ],
   "source": [
    "#appending the values\n",
    "lst.append([12,14,18])\n",
    "print(lst)"
   ]
  },
  {
   "cell_type": "code",
   "execution_count": 17,
   "id": "5d4fea72",
   "metadata": {},
   "outputs": [
    {
     "name": "stdout",
     "output_type": "stream",
     "text": [
      "[[4, 5, 16], ['Sachin Jalakoti', 24], [12, 14, 18]]\n"
     ]
    }
   ],
   "source": [
    "#deleting the list\n",
    "del lst[0]\n",
    "print(lst)"
   ]
  },
  {
   "cell_type": "code",
   "execution_count": 18,
   "id": "0b7bdf86",
   "metadata": {},
   "outputs": [
    {
     "name": "stdout",
     "output_type": "stream",
     "text": [
      "3\n"
     ]
    }
   ],
   "source": [
    "#check the lenght of list\n",
    "print(len(lst))"
   ]
  },
  {
   "cell_type": "code",
   "execution_count": 19,
   "id": "4efcf4ca",
   "metadata": {},
   "outputs": [
    {
     "name": "stdout",
     "output_type": "stream",
     "text": [
      "[[12, 14, 18], ['Sachin Jalakoti', 24], [4, 5, 16]]\n"
     ]
    }
   ],
   "source": [
    "#reverse the list\n",
    "print(lst[::-1])"
   ]
  },
  {
   "cell_type": "code",
   "execution_count": 23,
   "id": "64f7c78d",
   "metadata": {},
   "outputs": [
    {
     "name": "stdout",
     "output_type": "stream",
     "text": [
      "[[12, 14, 18], ['Sachin Jalakoti', 24], [4, 5, 16]]\n"
     ]
    }
   ],
   "source": [
    "lst.reverse()\n",
    "print(lst)"
   ]
  },
  {
   "cell_type": "code",
   "execution_count": 24,
   "id": "b7133c7a",
   "metadata": {},
   "outputs": [
    {
     "name": "stdout",
     "output_type": "stream",
     "text": [
      "[[12, 14, 18], ['Sachin Jalakoti', 24], [4, 5, 16]]\n",
      "[12, 14, 18]\n",
      "['Sachin Jalakoti', 24]\n",
      "[4, 5, 16]\n"
     ]
    }
   ],
   "source": [
    "#accessing all the elements of list\n",
    "print(lst)\n",
    "for i in lst:\n",
    "    print(i)"
   ]
  },
  {
   "cell_type": "code",
   "execution_count": 31,
   "id": "372f3170",
   "metadata": {},
   "outputs": [
    {
     "name": "stdout",
     "output_type": "stream",
     "text": [
      "12\n",
      "14\n",
      "18\n",
      "Sachin Jalakoti\n",
      "24\n",
      "4\n",
      "5\n",
      "16\n",
      "----------------------------------------------------------------------------------------------------\n"
     ]
    }
   ],
   "source": [
    "#printing all the elements of list one by one\n",
    "for i in lst:\n",
    "    for j in i:\n",
    "        print(j)\n",
    "        \n",
    "print(\"-\"*100)        "
   ]
  },
  {
   "cell_type": "markdown",
   "id": "7776931f",
   "metadata": {},
   "source": [
    "List Comprehension"
   ]
  },
  {
   "cell_type": "code",
   "execution_count": 33,
   "id": "5f5f95a9",
   "metadata": {},
   "outputs": [
    {
     "name": "stdout",
     "output_type": "stream",
     "text": [
      "[1, 2, 3, 4, 5, 6, 7, 8]\n",
      "[1, 4, 9, 16, 25, 36, 49, 64]\n"
     ]
    }
   ],
   "source": [
    "a=[1,2,3,4,5,6,7,8]\n",
    "print(a)\n",
    "s=[]\n",
    "for i in a:\n",
    "    s.append(i**2)\n",
    "    \n",
    "print(s)"
   ]
  },
  {
   "cell_type": "code",
   "execution_count": 36,
   "id": "a6004b5d",
   "metadata": {},
   "outputs": [
    {
     "name": "stdout",
     "output_type": "stream",
     "text": [
      "[1, 4, 9, 16, 25, 36, 49, 64]\n"
     ]
    }
   ],
   "source": [
    "b=[i**2 for i in a]\n",
    "print(b)"
   ]
  },
  {
   "cell_type": "code",
   "execution_count": 38,
   "id": "fbc6e2c4",
   "metadata": {},
   "outputs": [
    {
     "name": "stdout",
     "output_type": "stream",
     "text": [
      "[0, 2, 4, 6, 8, 10, 12, 14, 16, 18]\n"
     ]
    }
   ],
   "source": [
    "c=[i for i in range(20) if i%2==0]\n",
    "print(c)"
   ]
  },
  {
   "cell_type": "code",
   "execution_count": 39,
   "id": "14ccd5f5",
   "metadata": {},
   "outputs": [
    {
     "name": "stdout",
     "output_type": "stream",
     "text": [
      "[20, 40, 60, 80, 100, 120, 140, 160, 180, 200]\n"
     ]
    }
   ],
   "source": [
    "#printing multiplication table\n",
    "n=20\n",
    "d=[i for i in range(n,n*10+1) if i%n==0 ]\n",
    "print(d)\n"
   ]
  },
  {
   "cell_type": "code",
   "execution_count": 42,
   "id": "2c9eebcc",
   "metadata": {},
   "outputs": [
    {
     "name": "stdout",
     "output_type": "stream",
     "text": [
      "[0, 2, 4, 6, 8, 10, 12, 14, 16, 18, 20]\n"
     ]
    }
   ],
   "source": [
    "print([i for i in range(21) if i%2==0] )"
   ]
  },
  {
   "cell_type": "code",
   "execution_count": 43,
   "id": "80c5a604",
   "metadata": {},
   "outputs": [
    {
     "name": "stdout",
     "output_type": "stream",
     "text": [
      "[0, 4, 16, 36, 64, 100, 144, 196, 256, 324, 400]\n"
     ]
    }
   ],
   "source": [
    "print([i**2 for i in range(21) if i%2==0])"
   ]
  },
  {
   "cell_type": "code",
   "execution_count": 47,
   "id": "5a66d839",
   "metadata": {},
   "outputs": [
    {
     "name": "stdout",
     "output_type": "stream",
     "text": [
      "[[0, 1, 2, 3, 4], [0, 1, 2, 3, 4], [0, 1, 2, 3, 4], [0, 1, 2, 3, 4], [0, 1, 2, 3, 4]]\n"
     ]
    }
   ],
   "source": [
    "#printing multidimention list using list comprehension\n",
    "print([[j for j in range(5)] for i in range(5)])"
   ]
  },
  {
   "cell_type": "code",
   "execution_count": 48,
   "id": "09915dd0",
   "metadata": {},
   "outputs": [
    {
     "name": "stdout",
     "output_type": "stream",
     "text": [
      "[[0, 1, 2, 3, 4], [0, 1, 2, 3, 4], [0, 1, 2, 3, 4]]\n"
     ]
    }
   ],
   "source": [
    "print([[j for j in range(5)] for i in range(3)])"
   ]
  },
  {
   "cell_type": "code",
   "execution_count": 51,
   "id": "a5a2cce9",
   "metadata": {},
   "outputs": [
    {
     "name": "stdout",
     "output_type": "stream",
     "text": [
      "[[1, 1, 1, 2, 2, 2, 3, 3, 3]]\n"
     ]
    }
   ],
   "source": [
    "x=[[j for j in range(1,4)] for i in range(3)]\n",
    "print(x)\n",
    "\n"
   ]
  },
  {
   "cell_type": "code",
   "execution_count": 52,
   "id": "f35764e0",
   "metadata": {},
   "outputs": [
    {
     "name": "stdout",
     "output_type": "stream",
     "text": [
      "[1, 1, 1, 2, 2, 2, 3, 3, 3]\n"
     ]
    }
   ],
   "source": [
    "print([num for row in x for num in row])"
   ]
  },
  {
   "cell_type": "code",
   "execution_count": 60,
   "id": "c5c0de0d",
   "metadata": {},
   "outputs": [
    {
     "name": "stdout",
     "output_type": "stream",
     "text": [
      "[[1, 2, 3], [4, 5, 6], [7, 8, 9]]\n",
      "1\n",
      "2\n",
      "3\n",
      "4\n",
      "5\n",
      "6\n",
      "7\n",
      "8\n",
      "9\n"
     ]
    }
   ],
   "source": [
    "f=[[1,2,3],[4,5,6],[7,8,9]]\n",
    "print(f)\n",
    "for i in f:\n",
    "    for j in i:\n",
    "        print(j)    \n",
    "        \n",
    "        \n",
    "        "
   ]
  },
  {
   "cell_type": "markdown",
   "id": "aaa34820",
   "metadata": {},
   "source": [
    "Dictionary in Python"
   ]
  },
  {
   "cell_type": "code",
   "execution_count": 2,
   "id": "27e854b1",
   "metadata": {},
   "outputs": [
    {
     "name": "stdout",
     "output_type": "stream",
     "text": [
      "{1: 'sachin', 2: 'hrutik', 3: 'nilesh', 4: 'sachin'}\n"
     ]
    }
   ],
   "source": [
    "dict={1:'sachin',2:'hrutik',3:'nilesh',4:'sachin'}\n",
    "print(dict)"
   ]
  },
  {
   "cell_type": "code",
   "execution_count": 4,
   "id": "50f1e1d1",
   "metadata": {},
   "outputs": [
    {
     "name": "stdout",
     "output_type": "stream",
     "text": [
      "nilesh\n",
      "nilesh\n"
     ]
    }
   ],
   "source": [
    "#accessing the elements from dict\n",
    "print(dict[3])\n",
    "print(dict.get(3))"
   ]
  },
  {
   "cell_type": "code",
   "execution_count": 5,
   "id": "a2cdb20e",
   "metadata": {},
   "outputs": [
    {
     "name": "stdout",
     "output_type": "stream",
     "text": [
      "{1: 'sachin', 2: 'hrutik', 3: 'nilesh', 4: 'sachin', 5: 'Ramesh'}\n",
      "{1: 'sachin', 2: 'hrutik', 3: 'nilesh', 4: 'sachin'}\n"
     ]
    }
   ],
   "source": [
    "#Adding and updating key value pairs\n",
    "dict[5]='Ramesh'\n",
    "print(dict)\n",
    "\n",
    "#deleting the key value pair\n",
    "del dict[5]\n",
    "print(dict)"
   ]
  },
  {
   "cell_type": "code",
   "execution_count": 7,
   "id": "f5886fd8",
   "metadata": {},
   "outputs": [
    {
     "name": "stdout",
     "output_type": "stream",
     "text": [
      "{}\n"
     ]
    }
   ],
   "source": [
    "# clearing the dictionary\n",
    "dict.clear()\n",
    "print(dict)\n"
   ]
  },
  {
   "cell_type": "code",
   "execution_count": 9,
   "id": "2021cb55",
   "metadata": {},
   "outputs": [
    {
     "name": "stdout",
     "output_type": "stream",
     "text": [
      "{1: 'sachin', 2: 'hrutik', 3: 'nilesh', 4: 'sachin'}\n",
      "dict_keys([1, 2, 3, 4])\n",
      "dict_values(['sachin', 'hrutik', 'nilesh', 'sachin'])\n"
     ]
    }
   ],
   "source": [
    "#accessing the keys and value from dict\n",
    "dict={1:'sachin',2:'hrutik',3:'nilesh',4:'sachin'}\n",
    "print(dict)\n",
    "print(dict.keys())\n",
    "print(dict.values())"
   ]
  },
  {
   "cell_type": "code",
   "execution_count": 11,
   "id": "035e0fb4",
   "metadata": {},
   "outputs": [
    {
     "name": "stdout",
     "output_type": "stream",
     "text": [
      "1\n",
      "2\n",
      "3\n",
      "4\n"
     ]
    }
   ],
   "source": [
    "for i in dict.keys():\n",
    "    print(i)"
   ]
  },
  {
   "cell_type": "code",
   "execution_count": 12,
   "id": "695e2b69",
   "metadata": {},
   "outputs": [
    {
     "name": "stdout",
     "output_type": "stream",
     "text": [
      "sachin\n",
      "hrutik\n",
      "nilesh\n",
      "sachin\n"
     ]
    }
   ],
   "source": [
    "for i in dict.values():\n",
    "    print(i)"
   ]
  },
  {
   "cell_type": "code",
   "execution_count": 13,
   "id": "2b2f3bdb",
   "metadata": {},
   "outputs": [
    {
     "name": "stdout",
     "output_type": "stream",
     "text": [
      "(1, 'sachin')\n",
      "(2, 'hrutik')\n",
      "(3, 'nilesh')\n",
      "(4, 'sachin')\n"
     ]
    }
   ],
   "source": [
    "for i in dict.items():\n",
    "    print(i)"
   ]
  },
  {
   "cell_type": "code",
   "execution_count": 14,
   "id": "60fb5c59",
   "metadata": {},
   "outputs": [
    {
     "name": "stdout",
     "output_type": "stream",
     "text": [
      "1 sachin\n",
      "2 hrutik\n",
      "3 nilesh\n",
      "4 sachin\n"
     ]
    }
   ],
   "source": [
    "for i,j in dict.items():\n",
    "    print(i,j)"
   ]
  },
  {
   "cell_type": "code",
   "execution_count": 15,
   "id": "25d7c761",
   "metadata": {},
   "outputs": [
    {
     "name": "stdout",
     "output_type": "stream",
     "text": [
      "True\n",
      "False\n"
     ]
    }
   ],
   "source": [
    "#checking the key is present or not in the dict\n",
    "print(1 in dict)\n",
    "print('om'in dict)"
   ]
  },
  {
   "cell_type": "code",
   "execution_count": 16,
   "id": "07063e4b",
   "metadata": {},
   "outputs": [
    {
     "name": "stdout",
     "output_type": "stream",
     "text": [
      "{1: 'a', 2: 'b', 3: 'c', 4: 'd', 5: 'e'}\n",
      "{1: 'a', 2: 'b', 3: 'c', 4: 'd', 5: 'e'}\n"
     ]
    }
   ],
   "source": [
    "#updating the dictionary\n",
    "dict1={1:'A',2:'B',3:'C',4:'D',5:'E'}\n",
    "dict2={1:'a',2:'b',3:'c',4:'d',5:'e'}\n",
    "dict1.update(dict2)\n",
    "print(dict1)\n",
    "print(dict2)"
   ]
  },
  {
   "cell_type": "code",
   "execution_count": 20,
   "id": "33f65643",
   "metadata": {},
   "outputs": [
    {
     "name": "stdout",
     "output_type": "stream",
     "text": [
      "({1: 'A', 2: 'B', 3: 'C', 4: 'D', 5: 'E'}, {6: 'a', 7: 'b', 8: 'c', 9: 'd', 10: 'e'})\n"
     ]
    }
   ],
   "source": [
    "#adding two dictionaries\n",
    "dict1={1:'A',2:'B',3:'C',4:'D',5:'E'}\n",
    "dict2={6:'a',7:'b',8:'c',9:'d',10:'e'}\n",
    "dict3=(dict1,dict2)\n",
    "print(dict3)"
   ]
  },
  {
   "cell_type": "code",
   "execution_count": 1,
   "id": "361ec628",
   "metadata": {},
   "outputs": [
    {
     "ename": "NameError",
     "evalue": "name 'dict1' is not defined",
     "output_type": "error",
     "traceback": [
      "\u001b[1;31m---------------------------------------------------------------------------\u001b[0m",
      "\u001b[1;31mNameError\u001b[0m                                 Traceback (most recent call last)",
      "Cell \u001b[1;32mIn[1], line 1\u001b[0m\n\u001b[1;32m----> 1\u001b[0m \u001b[38;5;28;01mfor\u001b[39;00m i \u001b[38;5;129;01min\u001b[39;00m dict1:\n\u001b[0;32m      2\u001b[0m     i,dict1[i]\n\u001b[0;32m      3\u001b[0m     dict1[i]\u001b[38;5;241m=\u001b[39mdict2[i]\n",
      "\u001b[1;31mNameError\u001b[0m: name 'dict1' is not defined"
     ]
    }
   ],
   "source": [
    "for i in dict1:\n",
    "    i,dict1[i]\n",
    "    dict1[i]=dict2[i]\n",
    "    \n",
    "print(dict2)  \n",
    "print(\"--\"*100)"
   ]
  },
  {
   "cell_type": "markdown",
   "id": "7543d0c9",
   "metadata": {},
   "source": [
    "Multidimentional Dictionary"
   ]
  },
  {
   "cell_type": "code",
   "execution_count": 4,
   "id": "a1191fa1",
   "metadata": {},
   "outputs": [
    {
     "name": "stdout",
     "output_type": "stream",
     "text": [
      "{1: {'name': 'sachin', 'phone': 123456789}, 2: {'name': 'rahul', 'phone': 12344578789}, 3: {'name': 'rohan', 'phone': 4745393456789}}\n"
     ]
    }
   ],
   "source": [
    "dct={1:{'name':'sachin','phone':123456789},\n",
    "     2:{'name':'rahul','phone':12344578789},\n",
    "     3:{'name':'rohan','phone':4745393456789}}\n",
    "print(dct)"
   ]
  },
  {
   "cell_type": "code",
   "execution_count": 6,
   "id": "9a1ec98b",
   "metadata": {},
   "outputs": [
    {
     "name": "stdout",
     "output_type": "stream",
     "text": [
      "{'name': 'sachin', 'phone': 123456789}\n",
      "rohan\n"
     ]
    }
   ],
   "source": [
    "#Accessing the elements\n",
    "print(dct[1])\n",
    "print(dct[3]['name'])"
   ]
  },
  {
   "cell_type": "code",
   "execution_count": 9,
   "id": "4c6bb288",
   "metadata": {},
   "outputs": [
    {
     "name": "stdout",
     "output_type": "stream",
     "text": [
      "{1: {'name': 'sachin', 'phone': 123456789}, 2: {'name': 'rahul', 'phone': 12344578789}, 3: {'name': 'Raj', 'phone': 4745393456789}}\n",
      "{1: {'name': 'sachin', 'phone': 123456789}, 2: {'name': 'rahul', 'phone': 12344578789}, 3: {'name': 'Raj', 'phone': 4745393456789}, 4: {'name': 'Rohan', 'phone': 129630649}}\n"
     ]
    }
   ],
   "source": [
    "#adding ,updating the dictionary\n",
    "dct[3]['name']='Raj'\n",
    "print(dct)\n",
    "\n",
    "dct[4]={'name':'Rohan','phone':129630649}\n",
    "print(dct)"
   ]
  },
  {
   "cell_type": "code",
   "execution_count": 19,
   "id": "31f38ecd",
   "metadata": {},
   "outputs": [
    {
     "name": "stdout",
     "output_type": "stream",
     "text": [
      "{1: {'name': 'sachin', 'phone': 123456789}, 2: {'name': 'rahul', 'phone': 12344578789}, 3: {'name': 'Raj', 'phone': 4745393456789}}\n"
     ]
    }
   ],
   "source": [
    "del dct[4]\n",
    "print(dct)"
   ]
  },
  {
   "cell_type": "code",
   "execution_count": 20,
   "id": "7445e30c",
   "metadata": {},
   "outputs": [
    {
     "name": "stdout",
     "output_type": "stream",
     "text": [
      "1 {'name': 'sachin', 'phone': 123456789}\n",
      "2 {'name': 'rahul', 'phone': 12344578789}\n",
      "3 {'name': 'Raj', 'phone': 4745393456789}\n"
     ]
    }
   ],
   "source": [
    "#Going through the data\n",
    "for i in dct:\n",
    "    print(i,dct[i])"
   ]
  },
  {
   "cell_type": "code",
   "execution_count": 21,
   "id": "1c089296",
   "metadata": {},
   "outputs": [
    {
     "name": "stdout",
     "output_type": "stream",
     "text": [
      "1 sachin 123456789\n",
      "2 rahul 12344578789\n",
      "3 Raj 4745393456789\n"
     ]
    }
   ],
   "source": [
    "for i in dct.keys():\n",
    "    print(i,dct[i]['name'],dct[i]['phone'])"
   ]
  },
  {
   "cell_type": "code",
   "execution_count": 24,
   "id": "e2e6f07c",
   "metadata": {},
   "outputs": [
    {
     "name": "stdout",
     "output_type": "stream",
     "text": [
      "{1: {'name': 'sachin', 'phone': 123456789, 'marks': {'hindi': 50, 'math': 50, 'marathi': 50}}, 2: {'name': 'rahul', 'phone': 12344578789, 'marks': {'hindi': 40, 'math': 40, 'marathi': 50}}, 3: {'name': 'rohan', 'phone': 47453934589, 'marks': {'hindi': 30, 'math': 30, 'marathi': 50}}}\n"
     ]
    }
   ],
   "source": [
    "data={1:{'name':'sachin','phone':123456789,'marks':{'hindi':50,'math':50,'marathi':50}},\n",
    "     2:{'name':'rahul','phone':12344578789,'marks':{'hindi':40,'math':40,'marathi':50}},\n",
    "     3:{'name':'rohan','phone':47453934589,'marks':{'hindi':30,'math':30,'marathi':50}}}\n",
    "print(data)"
   ]
  },
  {
   "cell_type": "code",
   "execution_count": 25,
   "id": "d35758ef",
   "metadata": {},
   "outputs": [
    {
     "name": "stdout",
     "output_type": "stream",
     "text": [
      "1 {'name': 'sachin', 'phone': 123456789, 'marks': {'hindi': 50, 'math': 50, 'marathi': 50}}\n",
      "2 {'name': 'rahul', 'phone': 12344578789, 'marks': {'hindi': 40, 'math': 40, 'marathi': 50}}\n",
      "3 {'name': 'rohan', 'phone': 47453934589, 'marks': {'hindi': 30, 'math': 30, 'marathi': 50}}\n"
     ]
    }
   ],
   "source": [
    "for i in data:\n",
    "    print(i,data[i])"
   ]
  },
  {
   "cell_type": "code",
   "execution_count": 29,
   "id": "f3a2d3ec",
   "metadata": {},
   "outputs": [
    {
     "name": "stdout",
     "output_type": "stream",
     "text": [
      "1 sachin {'hindi': 50, 'math': 50, 'marathi': 50}\n",
      "2 rahul {'hindi': 40, 'math': 40, 'marathi': 50}\n",
      "3 rohan {'hindi': 30, 'math': 30, 'marathi': 50}\n"
     ]
    }
   ],
   "source": [
    "for i in data.keys():\n",
    "    print(i,data[i]['name'],data[i]['marks'])"
   ]
  },
  {
   "cell_type": "code",
   "execution_count": 34,
   "id": "346db563",
   "metadata": {},
   "outputs": [
    {
     "name": "stdout",
     "output_type": "stream",
     "text": [
      "1 sachin 50\n",
      "2 rahul 50\n",
      "3 rohan 50\n",
      "------------------------------------------------------------------------------------------------------------------------\n"
     ]
    }
   ],
   "source": [
    "for i in data.keys():\n",
    "    print(i,data[i]['name'],data[i]['marks']['marathi'])\n",
    "    \n",
    "print(\"---\"*40)    "
   ]
  },
  {
   "cell_type": "markdown",
   "id": "59164cf5",
   "metadata": {},
   "source": [
    "Dictionary Comprehension"
   ]
  },
  {
   "cell_type": "code",
   "execution_count": 35,
   "id": "49db0be1",
   "metadata": {},
   "outputs": [
    {
     "name": "stdout",
     "output_type": "stream",
     "text": [
      "{1: 1, 2: 4, 3: 9, 4: 16, 5: 25}\n"
     ]
    }
   ],
   "source": [
    "#dictionary with condition\n",
    "data1={i:i**2 for i in range(1,6)}\n",
    "print(data1)"
   ]
  },
  {
   "cell_type": "code",
   "execution_count": 36,
   "id": "5f6ea81c",
   "metadata": {},
   "outputs": [
    {
     "name": "stdout",
     "output_type": "stream",
     "text": [
      "{2: 4, 4: 16, 6: 36, 8: 64, 10: 100}\n"
     ]
    }
   ],
   "source": [
    "dct={i:i**2 for i in range(1,11) if i%2==0}\n",
    "print(dct)"
   ]
  },
  {
   "cell_type": "code",
   "execution_count": 39,
   "id": "cff18643",
   "metadata": {},
   "outputs": [
    {
     "name": "stdout",
     "output_type": "stream",
     "text": [
      "{2: 4, 4: 16, 6: 36, 8: 64, 10: 100}\n"
     ]
    }
   ],
   "source": [
    "a={}\n",
    "for i in range(1,11):\n",
    "    if i%2==0:\n",
    "        a[i]=i*i\n",
    "    \n",
    "print(a)    \n",
    "    "
   ]
  },
  {
   "cell_type": "code",
   "execution_count": 41,
   "id": "84bd6a2c",
   "metadata": {},
   "outputs": [
    {
     "name": "stdout",
     "output_type": "stream",
     "text": [
      "['Apple', 'Banana', 'Grapes']\n",
      "{'Apple': 5, 'Banana': 6, 'Grapes': 6}\n"
     ]
    }
   ],
   "source": [
    "#Dictionary  from list\n",
    "lst=['Apple','Banana','Grapes']\n",
    "dct={item:len(item) for item in lst}\n",
    "print(lst)\n",
    "print(dct)"
   ]
  },
  {
   "cell_type": "code",
   "execution_count": 42,
   "id": "76f8bd1d",
   "metadata": {},
   "outputs": [
    {
     "name": "stdout",
     "output_type": "stream",
     "text": [
      "{5: 'Apple', 6: 'Grapes'}\n"
     ]
    }
   ],
   "source": [
    "dct={len(item):item for item in lst}\n",
    "print(dct)"
   ]
  },
  {
   "cell_type": "code",
   "execution_count": 46,
   "id": "35f66a36",
   "metadata": {},
   "outputs": [
    {
     "name": "stdout",
     "output_type": "stream",
     "text": [
      "{1: 1, 2: 2, 3: 3, 4: 4, 5: 5, 6: 6, 7: 7, 8: 8, 9: 9, 10: 10}\n"
     ]
    }
   ],
   "source": [
    "#Special keys with string\n",
    "d={i:i for i in range(1,11)}\n",
    "print(d)"
   ]
  },
  {
   "cell_type": "code",
   "execution_count": 52,
   "id": "a7017432",
   "metadata": {},
   "outputs": [
    {
     "name": "stdout",
     "output_type": "stream",
     "text": [
      "{'num1': 1, 'num2': 2, 'num3': 3, 'num4': 4, 'num5': 5, 'num6': 6, 'num7': 7, 'num8': 8, 'num9': 9, 'num10': 10}\n"
     ]
    },
    {
     "data": {
      "text/plain": [
       "dict_items([('num1', 1), ('num2', 2), ('num3', 3), ('num4', 4), ('num5', 5), ('num6', 6), ('num7', 7), ('num8', 8), ('num9', 9), ('num10', 10)])"
      ]
     },
     "execution_count": 52,
     "metadata": {},
     "output_type": "execute_result"
    }
   ],
   "source": [
    "#shortlisting based on values\n",
    "c={'num'+str(i):i for i in range(1,11)}\n",
    "print(c)\n",
    "c.items()"
   ]
  },
  {
   "cell_type": "code",
   "execution_count": 53,
   "id": "abc46ee9",
   "metadata": {},
   "outputs": [
    {
     "name": "stdout",
     "output_type": "stream",
     "text": [
      "{'num3': 3, 'num6': 6, 'num9': 9}\n"
     ]
    }
   ],
   "source": [
    "c={k:v for k,v in c.items() if v%3==0}\n",
    "print(c)"
   ]
  },
  {
   "cell_type": "code",
   "execution_count": 57,
   "id": "9afe279b",
   "metadata": {},
   "outputs": [
    {
     "name": "stdout",
     "output_type": "stream",
     "text": [
      "{1: 'a', 2: 'b', 3: 'c', 4: 'd'}\n"
     ]
    }
   ],
   "source": [
    "lst1=['a','b','c','d']\n",
    "lst2=[1,2,3,4]\n",
    "z={lst2[i]:lst1[i] for i in range(len(lst2))}\n",
    "print(z)"
   ]
  },
  {
   "cell_type": "code",
   "execution_count": 2,
   "id": "e1c21789",
   "metadata": {},
   "outputs": [
    {
     "name": "stdout",
     "output_type": "stream",
     "text": [
      "{(0, 0): 1, (0, 1): 2, (0, 2): 3, (1, 0): 4, (1, 1): 5, (1, 2): 6, (2, 0): 7, (2, 1): 8, (2, 2): 9}\n"
     ]
    }
   ],
   "source": [
    "# matrix dictionary comprehensive\n",
    "matrix=[[1,2,3],[4,5,6],[7,8,9]]\n",
    "final_dct={(i,j):matrix[i][j] for i in range(3) for j in range(3)}\n",
    "print(final_dct)"
   ]
  },
  {
   "cell_type": "code",
   "execution_count": 3,
   "id": "4c014660",
   "metadata": {},
   "outputs": [
    {
     "name": "stdout",
     "output_type": "stream",
     "text": [
      "{1: [0, 0], 2: [0, 1], 3: [0, 2], 4: [1, 0], 5: [1, 1], 6: [1, 2], 7: [2, 0], 8: [2, 1], 9: [2, 2]}\n"
     ]
    }
   ],
   "source": [
    "final_dct={matrix[i][j]:[i,j] for i in range(3) for j in range(3)}\n",
    "print(final_dct)"
   ]
  },
  {
   "cell_type": "code",
   "execution_count": 11,
   "id": "4d690cd6",
   "metadata": {},
   "outputs": [
    {
     "name": "stdout",
     "output_type": "stream",
     "text": [
      "{400}\n"
     ]
    }
   ],
   "source": [
    "d1={'a':100,'b':200,'c':300}\n",
    "d2={'a':300, 'b':200,'d':100}\n",
    "d3={d1[i]+d2[i] for i,j in d1.items() if i in d2  }\n",
    "print(d3)\n"
   ]
  },
  {
   "cell_type": "code",
   "execution_count": 10,
   "id": "3fa64c14",
   "metadata": {},
   "outputs": [
    {
     "name": "stdout",
     "output_type": "stream",
     "text": [
      "{'a': 400, 'b': 400, 'd': 100, 'c': 300}\n",
      "------------------------------------------------------------------------------------------------------------------------\n"
     ]
    }
   ],
   "source": [
    "d1={'a':100,'b':200,'c':300}\n",
    "d2={'a':300, 'b':200,'d':100}\n",
    "for i,j in d1.items():\n",
    "    if i in d2:\n",
    "        d2[i]=d1[i]+d2[i]\n",
    "    else:\n",
    "        d2[i]=j\n",
    "print(d2)\n",
    "print(\"---\"*40)\n",
    "        "
   ]
  },
  {
   "cell_type": "markdown",
   "id": "3dec455c",
   "metadata": {},
   "source": [
    "Set and Tuple"
   ]
  },
  {
   "cell_type": "code",
   "execution_count": 11,
   "id": "0883e16d",
   "metadata": {},
   "outputs": [
    {
     "name": "stdout",
     "output_type": "stream",
     "text": [
      "{1, 2, 3, 4, 5}\n",
      "<class 'set'>\n"
     ]
    }
   ],
   "source": [
    "set={1,2,3,4,5}\n",
    "print(set)\n",
    "print(type(set))"
   ]
  },
  {
   "cell_type": "code",
   "execution_count": 13,
   "id": "fb584042",
   "metadata": {},
   "outputs": [
    {
     "name": "stdout",
     "output_type": "stream",
     "text": [
      "{1, 2, 3, 4, 5, 6}\n"
     ]
    }
   ],
   "source": [
    "#Adding the element in set\n",
    "set.add(6)\n",
    "print(set)"
   ]
  },
  {
   "cell_type": "code",
   "execution_count": 15,
   "id": "4e2e61e7",
   "metadata": {},
   "outputs": [
    {
     "name": "stdout",
     "output_type": "stream",
     "text": [
      "{2, 3, 4, 5, 6}\n"
     ]
    }
   ],
   "source": [
    "#Popping the element from set\n",
    "set.pop()\n",
    "print(set)"
   ]
  },
  {
   "cell_type": "code",
   "execution_count": 18,
   "id": "e3e0996a",
   "metadata": {},
   "outputs": [
    {
     "name": "stdout",
     "output_type": "stream",
     "text": [
      "{2, 3, 5, 6}\n"
     ]
    }
   ],
   "source": [
    "#Removing the elements from the set\n",
    "set.discard(4)\n",
    "print(set)"
   ]
  },
  {
   "cell_type": "code",
   "execution_count": 19,
   "id": "0bfce49a",
   "metadata": {},
   "outputs": [
    {
     "name": "stdout",
     "output_type": "stream",
     "text": [
      "{1, 2, 3, 4, 5, 6}\n",
      "1\n",
      "2\n",
      "3\n",
      "4\n",
      "5\n",
      "6\n"
     ]
    }
   ],
   "source": [
    "#Iterating the set\n",
    "set1={1,2,3,4,5,6}\n",
    "print(set1)\n",
    "for i in set1:\n",
    "    print(i)"
   ]
  },
  {
   "cell_type": "code",
   "execution_count": 20,
   "id": "368064cd",
   "metadata": {},
   "outputs": [
    {
     "name": "stdout",
     "output_type": "stream",
     "text": [
      "False\n",
      "True\n",
      "False\n"
     ]
    }
   ],
   "source": [
    "# Checking the value or element in set\n",
    "print(7 in set)\n",
    "print(2 in set)\n",
    "print(9 in set)"
   ]
  },
  {
   "cell_type": "code",
   "execution_count": 25,
   "id": "0a30f1d4",
   "metadata": {},
   "outputs": [
    {
     "name": "stdout",
     "output_type": "stream",
     "text": [
      "Union : {1, 2, 3, 4}\n",
      "Intersection : {1, 2}\n",
      "Difference : {3}\n",
      "Difference : {4}\n",
      "Symmetric Difference : {3, 4}\n"
     ]
    }
   ],
   "source": [
    "# Set union operation\n",
    "set1={1,2,3}\n",
    "set2={4,2,1}\n",
    "print(\"Union :\",set1|set2)\n",
    "print(\"Intersection :\",set1&set2)\n",
    "print(\"Difference :\",set1-set2)\n",
    "print(\"Difference :\",set2-set1)\n",
    "print(\"Symmetric Difference :\",set1^set2)"
   ]
  },
  {
   "cell_type": "code",
   "execution_count": 26,
   "id": "958d80b7",
   "metadata": {},
   "outputs": [
    {
     "name": "stdout",
     "output_type": "stream",
     "text": [
      "set()\n"
     ]
    }
   ],
   "source": [
    "# Clearing the set\n",
    "set1.clear()\n",
    "print(set1)"
   ]
  },
  {
   "cell_type": "markdown",
   "id": "cb6f5c15",
   "metadata": {},
   "source": [
    "Tuple in Python"
   ]
  },
  {
   "cell_type": "code",
   "execution_count": 27,
   "id": "60dfbc17",
   "metadata": {},
   "outputs": [
    {
     "name": "stdout",
     "output_type": "stream",
     "text": [
      "(1, 2, 3, 4)\n"
     ]
    }
   ],
   "source": [
    "# Tuple Inialization\n",
    "tpl=(1,2,3,4)\n",
    "print(tpl)"
   ]
  },
  {
   "cell_type": "code",
   "execution_count": 28,
   "id": "cb1accd4",
   "metadata": {},
   "outputs": [
    {
     "name": "stdout",
     "output_type": "stream",
     "text": [
      "3\n"
     ]
    }
   ],
   "source": [
    "# Accessong the element from tuple\n",
    "print(tpl[2])"
   ]
  },
  {
   "cell_type": "code",
   "execution_count": 29,
   "id": "475a0ca4",
   "metadata": {},
   "outputs": [
    {
     "name": "stdout",
     "output_type": "stream",
     "text": [
      "(2, 3, 4)\n"
     ]
    }
   ],
   "source": [
    "# Slicing the tpl\n",
    "print(tpl[1:4])"
   ]
  },
  {
   "cell_type": "code",
   "execution_count": 30,
   "id": "682f1930",
   "metadata": {},
   "outputs": [
    {
     "name": "stdout",
     "output_type": "stream",
     "text": [
      "Conatenation of tpls : (1, 2, 3, 4, 5, 6, 7, 8)\n"
     ]
    }
   ],
   "source": [
    "# Concatenation in tpl\n",
    "tpl1=(1,2,3,4)\n",
    "tpl2=(5,6,7,8)\n",
    "print(\"Conatenation of tpls :\",tpl1+tpl2)"
   ]
  },
  {
   "cell_type": "code",
   "execution_count": 31,
   "id": "fe5db5de",
   "metadata": {},
   "outputs": [
    {
     "name": "stdout",
     "output_type": "stream",
     "text": [
      "(1, 2, 4, 5, 6, 7, 8)\n",
      "1\n",
      "2\n",
      "4\n",
      "5\n",
      "6\n",
      "7\n",
      "8\n"
     ]
    }
   ],
   "source": [
    "# Iteratin in the tpl\n",
    "tpl=(1,2,4,5,6,7,8)\n",
    "print(tpl)\n",
    "for i in tpl:\n",
    "    print(i)"
   ]
  },
  {
   "cell_type": "code",
   "execution_count": 33,
   "id": "39dfdd11",
   "metadata": {},
   "outputs": [
    {
     "name": "stdout",
     "output_type": "stream",
     "text": [
      "True\n",
      "False\n"
     ]
    }
   ],
   "source": [
    "# Checking the element in the tpl\n",
    "print(2 in tpl)\n",
    "print(11 in tpl)"
   ]
  },
  {
   "cell_type": "code",
   "execution_count": 36,
   "id": "c80ced3f",
   "metadata": {},
   "outputs": [
    {
     "name": "stdout",
     "output_type": "stream",
     "text": [
      "(2, 4, 5, 8, 9, 1, 2, 4, 5, 6, 7, 8)\n",
      "1\n",
      "2\n"
     ]
    }
   ],
   "source": [
    "# Counting the element in tpl\n",
    "tpl3=(2,4,5,8,9,)\n",
    "tpl4=tpl3+tpl\n",
    "print(tpl4)\n",
    "print(tpl4.count(6))\n",
    "print(tpl4.count(5))"
   ]
  },
  {
   "cell_type": "code",
   "execution_count": 39,
   "id": "b5efc963",
   "metadata": {},
   "outputs": [
    {
     "name": "stdout",
     "output_type": "stream",
     "text": [
      "3\n"
     ]
    }
   ],
   "source": [
    "#Finding the index of element in tpl\n",
    "t=(1,2,3,4,5,6,7,8,9)\n",
    "print(t.index(4))"
   ]
  },
  {
   "cell_type": "code",
   "execution_count": 40,
   "id": "0b1d94b3",
   "metadata": {},
   "outputs": [
    {
     "name": "stdout",
     "output_type": "stream",
     "text": [
      "(1, 2, 3, 4, 5, 6, 7, 8, 9, 1, 2, 3, 4, 5, 6, 7, 8, 9, 1, 2, 3, 4, 5, 6, 7, 8, 9)\n"
     ]
    }
   ],
   "source": [
    "# Multiplying the tpl\n",
    "print(t*3)\n"
   ]
  },
  {
   "cell_type": "code",
   "execution_count": 42,
   "id": "4a68eae8",
   "metadata": {},
   "outputs": [
    {
     "name": "stdout",
     "output_type": "stream",
     "text": [
      "<class 'float'>\n",
      "<class 'int'>\n"
     ]
    }
   ],
   "source": [
    "print(type(5/2))\n",
    "print(type(5//2))"
   ]
  }
 ],
 "metadata": {
  "kernelspec": {
   "display_name": "Python 3 (ipykernel)",
   "language": "python",
   "name": "python3"
  },
  "language_info": {
   "codemirror_mode": {
    "name": "ipython",
    "version": 3
   },
   "file_extension": ".py",
   "mimetype": "text/x-python",
   "name": "python",
   "nbconvert_exporter": "python",
   "pygments_lexer": "ipython3",
   "version": "3.11.4"
  }
 },
 "nbformat": 4,
 "nbformat_minor": 5
}
